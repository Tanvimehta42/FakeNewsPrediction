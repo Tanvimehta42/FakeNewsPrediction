{
 "cells": [
  {
   "cell_type": "code",
   "execution_count": 84,
   "metadata": {},
   "outputs": [
    {
     "name": "stderr",
     "output_type": "stream",
     "text": [
      "[nltk_data] Downloading package stopwords to\n",
      "[nltk_data]     /Users/tanvimehta/nltk_data...\n",
      "[nltk_data]   Package stopwords is already up-to-date!\n"
     ]
    }
   ],
   "source": [
    "# importing packages and libraries \n",
    "import pandas as pd \n",
    "import matplotlib.pyplot as plt\n",
    "import seaborn as sns\n",
    "import numpy as np\n",
    "import string\n",
    "import nltk\n",
    "nltk.download('stopwords')\n",
    "\n",
    "from sklearn.feature_extraction.text import CountVectorizer\n",
    "from sklearn.feature_extraction.text import TfidfVectorizer\n",
    "from nltk.stem import PorterStemmer\n",
    "from nltk.tokenize import sent_tokenize, word_tokenize\n",
    "from nltk.corpus import stopwords \n",
    "from nltk.corpus import sentiwordnet as swn\n",
    "from sklearn import metrics\n",
    "\n",
    "import gensim\n",
    "from gensim import corpora\n",
    "from gensim import models\n",
    "\n",
    "from sklearn.model_selection import train_test_split \n",
    "from sklearn.metrics import confusion_matrix, classification_report\n",
    "from sklearn.naive_bayes import MultinomialNB\n",
    "from sklearn.linear_model import LogisticRegression\n",
    "from sklearn.tree import DecisionTreeClassifier\n",
    "from sklearn.base import BaseEstimator, TransformerMixin\n",
    "from sklearn.pipeline import Pipeline\n",
    "from sklearn import svm\n",
    "from sklearn.svm import LinearSVC\n",
    "from xgboost import XGBClassifier"
   ]
  },
  {
   "cell_type": "code",
   "execution_count": 10,
   "metadata": {},
   "outputs": [],
   "source": [
    "# pip install -U gensim"
   ]
  },
  {
   "cell_type": "code",
   "execution_count": 11,
   "metadata": {},
   "outputs": [],
   "source": [
    "train = pd.read_csv(r'train.csv', sep='\\t', encoding='utf-8')\n",
    "test = pd.read_csv(r'test.csv', sep='\\t', encoding='utf-8')"
   ]
  },
  {
   "cell_type": "code",
   "execution_count": 12,
   "metadata": {},
   "outputs": [
    {
     "data": {
      "text/html": [
       "<div>\n",
       "<style scoped>\n",
       "    .dataframe tbody tr th:only-of-type {\n",
       "        vertical-align: middle;\n",
       "    }\n",
       "\n",
       "    .dataframe tbody tr th {\n",
       "        vertical-align: top;\n",
       "    }\n",
       "\n",
       "    .dataframe thead th {\n",
       "        text-align: right;\n",
       "    }\n",
       "</style>\n",
       "<table border=\"1\" class=\"dataframe\">\n",
       "  <thead>\n",
       "    <tr style=\"text-align: right;\">\n",
       "      <th></th>\n",
       "      <th>text</th>\n",
       "      <th>label</th>\n",
       "    </tr>\n",
       "  </thead>\n",
       "  <tbody>\n",
       "    <tr>\n",
       "      <th>0</th>\n",
       "      <td>Get the latest from TODAY Sign up for our news...</td>\n",
       "      <td>1</td>\n",
       "    </tr>\n",
       "    <tr>\n",
       "      <th>1</th>\n",
       "      <td>2d  Conan On The Funeral Trump Will Be Invited...</td>\n",
       "      <td>1</td>\n",
       "    </tr>\n",
       "    <tr>\n",
       "      <th>2</th>\n",
       "      <td>It’s safe to say that Instagram Stories has fa...</td>\n",
       "      <td>0</td>\n",
       "    </tr>\n",
       "    <tr>\n",
       "      <th>3</th>\n",
       "      <td>Much like a certain Amazon goddess with a lass...</td>\n",
       "      <td>0</td>\n",
       "    </tr>\n",
       "    <tr>\n",
       "      <th>4</th>\n",
       "      <td>At a time when the perfect outfit is just one ...</td>\n",
       "      <td>0</td>\n",
       "    </tr>\n",
       "  </tbody>\n",
       "</table>\n",
       "</div>"
      ],
      "text/plain": [
       "                                                text label\n",
       "0  Get the latest from TODAY Sign up for our news...     1\n",
       "1  2d  Conan On The Funeral Trump Will Be Invited...     1\n",
       "2  It’s safe to say that Instagram Stories has fa...     0\n",
       "3  Much like a certain Amazon goddess with a lass...     0\n",
       "4  At a time when the perfect outfit is just one ...     0"
      ]
     },
     "execution_count": 12,
     "metadata": {},
     "output_type": "execute_result"
    }
   ],
   "source": [
    "train.head()"
   ]
  },
  {
   "cell_type": "code",
   "execution_count": 13,
   "metadata": {},
   "outputs": [
    {
     "data": {
      "text/plain": [
       "text     0\n",
       "label    0\n",
       "dtype: int64"
      ]
     },
     "execution_count": 13,
     "metadata": {},
     "output_type": "execute_result"
    }
   ],
   "source": [
    "train.isnull().sum()"
   ]
  },
  {
   "cell_type": "code",
   "execution_count": 14,
   "metadata": {},
   "outputs": [
    {
     "data": {
      "text/plain": [
       "text     object\n",
       "label    object\n",
       "dtype: object"
      ]
     },
     "execution_count": 14,
     "metadata": {},
     "output_type": "execute_result"
    }
   ],
   "source": [
    "train.dtypes"
   ]
  },
  {
   "cell_type": "code",
   "execution_count": 15,
   "metadata": {},
   "outputs": [
    {
     "data": {
      "text/plain": [
       "array(['1', '0', 'label'], dtype=object)"
      ]
     },
     "execution_count": 15,
     "metadata": {},
     "output_type": "execute_result"
    }
   ],
   "source": [
    "train['label'].unique()"
   ]
  },
  {
   "cell_type": "code",
   "execution_count": 16,
   "metadata": {},
   "outputs": [
    {
     "data": {
      "text/plain": [
       "0        2972\n",
       "1        2014\n",
       "label       1\n",
       "Name: label, dtype: int64"
      ]
     },
     "execution_count": 16,
     "metadata": {},
     "output_type": "execute_result"
    }
   ],
   "source": [
    "train['label'].value_counts()"
   ]
  },
  {
   "cell_type": "code",
   "execution_count": 17,
   "metadata": {},
   "outputs": [],
   "source": [
    "train.drop(train[train['label']=='label'].index, inplace = True)"
   ]
  },
  {
   "cell_type": "code",
   "execution_count": 18,
   "metadata": {},
   "outputs": [
    {
     "data": {
      "text/plain": [
       "array(['1', '0'], dtype=object)"
      ]
     },
     "execution_count": 18,
     "metadata": {},
     "output_type": "execute_result"
    }
   ],
   "source": [
    "train['label'].unique()"
   ]
  },
  {
   "cell_type": "code",
   "execution_count": 19,
   "metadata": {},
   "outputs": [],
   "source": [
    "train['label'] = pd.to_numeric(train['label'])"
   ]
  },
  {
   "cell_type": "code",
   "execution_count": 20,
   "metadata": {},
   "outputs": [
    {
     "data": {
      "text/plain": [
       "text     object\n",
       "label     int64\n",
       "dtype: object"
      ]
     },
     "execution_count": 20,
     "metadata": {},
     "output_type": "execute_result"
    }
   ],
   "source": [
    "train.dtypes"
   ]
  },
  {
   "cell_type": "code",
   "execution_count": 21,
   "metadata": {},
   "outputs": [],
   "source": [
    "ind = train[train['label']==0].index"
   ]
  },
  {
   "cell_type": "code",
   "execution_count": 22,
   "metadata": {},
   "outputs": [],
   "source": [
    "train.loc[ind,'type']='reliable'"
   ]
  },
  {
   "cell_type": "code",
   "execution_count": 23,
   "metadata": {},
   "outputs": [],
   "source": [
    "ind = train[train['label']==1].index"
   ]
  },
  {
   "cell_type": "code",
   "execution_count": 24,
   "metadata": {},
   "outputs": [],
   "source": [
    "train.loc[ind,'type']='fake'"
   ]
  },
  {
   "cell_type": "code",
   "execution_count": 25,
   "metadata": {},
   "outputs": [
    {
     "data": {
      "text/html": [
       "<div>\n",
       "<style scoped>\n",
       "    .dataframe tbody tr th:only-of-type {\n",
       "        vertical-align: middle;\n",
       "    }\n",
       "\n",
       "    .dataframe tbody tr th {\n",
       "        vertical-align: top;\n",
       "    }\n",
       "\n",
       "    .dataframe thead th {\n",
       "        text-align: right;\n",
       "    }\n",
       "</style>\n",
       "<table border=\"1\" class=\"dataframe\">\n",
       "  <thead>\n",
       "    <tr style=\"text-align: right;\">\n",
       "      <th></th>\n",
       "      <th>text</th>\n",
       "      <th>label</th>\n",
       "      <th>type</th>\n",
       "    </tr>\n",
       "  </thead>\n",
       "  <tbody>\n",
       "    <tr>\n",
       "      <th>0</th>\n",
       "      <td>Get the latest from TODAY Sign up for our news...</td>\n",
       "      <td>1</td>\n",
       "      <td>fake</td>\n",
       "    </tr>\n",
       "    <tr>\n",
       "      <th>1</th>\n",
       "      <td>2d  Conan On The Funeral Trump Will Be Invited...</td>\n",
       "      <td>1</td>\n",
       "      <td>fake</td>\n",
       "    </tr>\n",
       "    <tr>\n",
       "      <th>2</th>\n",
       "      <td>It’s safe to say that Instagram Stories has fa...</td>\n",
       "      <td>0</td>\n",
       "      <td>reliable</td>\n",
       "    </tr>\n",
       "    <tr>\n",
       "      <th>3</th>\n",
       "      <td>Much like a certain Amazon goddess with a lass...</td>\n",
       "      <td>0</td>\n",
       "      <td>reliable</td>\n",
       "    </tr>\n",
       "    <tr>\n",
       "      <th>4</th>\n",
       "      <td>At a time when the perfect outfit is just one ...</td>\n",
       "      <td>0</td>\n",
       "      <td>reliable</td>\n",
       "    </tr>\n",
       "  </tbody>\n",
       "</table>\n",
       "</div>"
      ],
      "text/plain": [
       "                                                text  label      type\n",
       "0  Get the latest from TODAY Sign up for our news...      1      fake\n",
       "1  2d  Conan On The Funeral Trump Will Be Invited...      1      fake\n",
       "2  It’s safe to say that Instagram Stories has fa...      0  reliable\n",
       "3  Much like a certain Amazon goddess with a lass...      0  reliable\n",
       "4  At a time when the perfect outfit is just one ...      0  reliable"
      ]
     },
     "execution_count": 25,
     "metadata": {},
     "output_type": "execute_result"
    }
   ],
   "source": [
    "train.head()"
   ]
  },
  {
   "cell_type": "code",
   "execution_count": 26,
   "metadata": {},
   "outputs": [
    {
     "data": {
      "image/png": "[encoded data removed]",
      "text/plain": [
       "<Figure size 432x288 with 1 Axes>"
      ]
     },
     "metadata": {
      "needs_background": "light"
     },
     "output_type": "display_data"
    }
   ],
   "source": [
    "train.type.value_counts().plot(kind='bar', color='springgreen', alpha=0.5)\n",
    "plt.xlabel('News Type')\n",
    "plt.ylabel('Total Count')\n",
    "plt.title(\"Counts for News Type\", fontsize=25)\n",
    "plt.savefig('newstypecounts.png', bbox_inches='tight', dpi = 300)"
   ]
  },
  {
   "cell_type": "code",
   "execution_count": 27,
   "metadata": {},
   "outputs": [],
   "source": [
    "y = train['label']"
   ]
  },
  {
   "cell_type": "code",
   "execution_count": 28,
   "metadata": {},
   "outputs": [],
   "source": [
    "# Create training and test sets\n",
    "X_train, X_test, y_train, y_test = train_test_split(train[\"text\"], y, test_size = 0.33, random_state = 53)"
   ]
  },
  {
   "cell_type": "code",
   "execution_count": 29,
   "metadata": {},
   "outputs": [
    {
     "name": "stdout",
     "output_type": "stream",
     "text": [
      "['00', '000', '000000', '000th', '001', '001100', '00113234', '002', '007', '008']\n"
     ]
    }
   ],
   "source": [
    "# Initialize a CountVectorizer object: count_vectorizer\n",
    "count_vectorizer = CountVectorizer(stop_words = 'english')\n",
    "\n",
    "# Transform the training data using only the 'text' column values: count_train \n",
    "count_train = count_vectorizer.fit_transform(X_train)\n",
    "\n",
    "# Transform the test data using only the 'text' column values: count_test \n",
    "count_test = count_vectorizer.transform(X_test)\n",
    "\n",
    "# Print the first 10 features of the count_vectorizer\n",
    "print(count_vectorizer.get_feature_names()[:10])"
   ]
  },
  {
   "cell_type": "code",
   "execution_count": 30,
   "metadata": {},
   "outputs": [
    {
     "name": "stdout",
     "output_type": "stream",
     "text": [
      "0.735722964763062\n",
      "[[756 227]\n",
      " [208 455]]\n",
      "              precision    recall  f1-score   support\n",
      "\n",
      "           0       0.78      0.77      0.78       983\n",
      "           1       0.67      0.69      0.68       663\n",
      "\n",
      "    accuracy                           0.74      1646\n",
      "   macro avg       0.73      0.73      0.73      1646\n",
      "weighted avg       0.74      0.74      0.74      1646\n",
      "\n"
     ]
    }
   ],
   "source": [
    "# Instantiate a Multinomial Naive Bayes classifier: nb_classifier\n",
    "nb_classifier = MultinomialNB()\n",
    "\n",
    "# Fit the classifier to the training data\n",
    "nb_classifier.fit(count_train, y_train)\n",
    "\n",
    "# Create the predicted tags: pred\n",
    "y_pred = nb_classifier.predict(count_test)\n",
    "\n",
    "# Calculate the accuracy score: score\n",
    "score = metrics.accuracy_score(y_test,y_pred)\n",
    "print(score)\n",
    "\n",
    "#confusion matrix and classification report\n",
    "print(confusion_matrix(y_test, y_pred))\n",
    "print(classification_report(y_test, y_pred))"
   ]
  },
  {
   "cell_type": "code",
   "execution_count": 31,
   "metadata": {},
   "outputs": [
    {
     "name": "stdout",
     "output_type": "stream",
     "text": [
      "0.7223572296476306\n",
      "[[941  42]\n",
      " [415 248]]\n",
      "              precision    recall  f1-score   support\n",
      "\n",
      "           0       0.69      0.96      0.80       983\n",
      "           1       0.86      0.37      0.52       663\n",
      "\n",
      "    accuracy                           0.72      1646\n",
      "   macro avg       0.77      0.67      0.66      1646\n",
      "weighted avg       0.76      0.72      0.69      1646\n",
      "\n"
     ]
    }
   ],
   "source": [
    "svm_classifier = svm.SVC()\n",
    "svm_classifier.fit(count_train, y_train)\n",
    "y_pred = svm_classifier.predict(count_test)\n",
    "\n",
    "# Calculate the accuracy score: score\n",
    "score = metrics.accuracy_score(y_test,y_pred)\n",
    "print(score)\n",
    "\n",
    "#confusion matrix and classification report\n",
    "print(confusion_matrix(y_test, y_pred))\n",
    "print(classification_report(y_test, y_pred))"
   ]
  },
  {
   "cell_type": "code",
   "execution_count": 32,
   "metadata": {},
   "outputs": [
    {
     "name": "stdout",
     "output_type": "stream",
     "text": [
      "['00', '000', '000000', '000th', '001', '001100', '00113234', '002', '007', '008']\n",
      "[[0.        0.        0.        ... 0.        0.        0.       ]\n",
      " [0.        0.        0.        ... 0.        0.        0.       ]\n",
      " [0.        0.        0.        ... 0.        0.        0.       ]\n",
      " [0.        0.        0.        ... 0.        0.        0.       ]\n",
      " [0.        0.0339453 0.        ... 0.        0.        0.       ]]\n"
     ]
    }
   ],
   "source": [
    "tfidf_vectorizer = TfidfVectorizer(stop_words=\"english\", max_df=0.7)\n",
    "\n",
    "# Transform the training data: tfidf_train \n",
    "tfidf_train = tfidf_vectorizer.fit_transform(X_train)\n",
    "\n",
    "# Transform the test data: tfidf_test \n",
    "tfidf_test = tfidf_vectorizer.transform(X_test)\n",
    "\n",
    "# Print the first 10 features\n",
    "print(tfidf_vectorizer.get_feature_names()[:10])\n",
    "\n",
    "# Print the first 5 vectors of the tfidf training data\n",
    "print(tfidf_train.A[:5])\n"
   ]
  },
  {
   "cell_type": "code",
   "execution_count": 33,
   "metadata": {},
   "outputs": [
    {
     "name": "stdout",
     "output_type": "stream",
     "text": [
      "0.7095990279465371\n",
      "[[957  26]\n",
      " [452 211]]\n",
      "              precision    recall  f1-score   support\n",
      "\n",
      "           0       0.68      0.97      0.80       983\n",
      "           1       0.89      0.32      0.47       663\n",
      "\n",
      "    accuracy                           0.71      1646\n",
      "   macro avg       0.78      0.65      0.63      1646\n",
      "weighted avg       0.76      0.71      0.67      1646\n",
      "\n"
     ]
    }
   ],
   "source": [
    "nb_classifier = MultinomialNB()\n",
    "\n",
    "nb_classifier.fit(tfidf_train, y_train)\n",
    "\n",
    "y_pred = nb_classifier.predict(tfidf_test)\n",
    "\n",
    "# Calculate the accuracy score: score\n",
    "score = metrics.accuracy_score(y_test,y_pred)\n",
    "print(score)\n",
    "\n",
    "#confusion matrix and classification report\n",
    "print(confusion_matrix(y_test, y_pred))\n",
    "print(classification_report(y_test, y_pred))"
   ]
  },
  {
   "cell_type": "code",
   "execution_count": 34,
   "metadata": {},
   "outputs": [
    {
     "name": "stdout",
     "output_type": "stream",
     "text": [
      "Alpha:  0.0\n",
      "Score:  0.7168894289185905\n",
      "Alpha:  0.1\n",
      "Score:  0.7679222357229648\n",
      "Alpha:  0.2\n",
      "Score:  0.7618469015795869\n",
      "Alpha:  0.30000000000000004\n"
     ]
    },
    {
     "name": "stderr",
     "output_type": "stream",
     "text": [
      "/opt/anaconda3/lib/python3.8/site-packages/sklearn/naive_bayes.py:508: UserWarning: alpha too small will result in numeric errors, setting alpha = 1.0e-10\n",
      "  warnings.warn('alpha too small will result in numeric errors, '\n"
     ]
    },
    {
     "name": "stdout",
     "output_type": "stream",
     "text": [
      "Score:  0.7624544349939246\n",
      "Alpha:  0.4\n",
      "Score:  0.7448359659781288\n",
      "Alpha:  0.5\n",
      "Score:  0.7345078979343864\n",
      "Alpha:  0.6000000000000001\n",
      "Score:  0.727217496962333\n",
      "Alpha:  0.7000000000000001\n",
      "Score:  0.7223572296476306\n",
      "Alpha:  0.8\n",
      "Score:  0.7187120291616039\n",
      "Alpha:  0.9\n",
      "Score:  0.7138517618469016\n"
     ]
    }
   ],
   "source": [
    "# Create the list of alphas: alphas\n",
    "alphas = np.arange(0,1,0.1)\n",
    "\n",
    "# Define train_and_predict()\n",
    "def train_and_predict(alpha):\n",
    "    # Instantiate the classifier: nb_classifier\n",
    "    nb_classifier = MultinomialNB(alpha=alpha)\n",
    "    # Fit to the training data\n",
    "    nb_classifier.fit(tfidf_train, y_train)\n",
    "    # Predict the labels: pred\n",
    "    y_pred = nb_classifier.predict(tfidf_test)\n",
    "    # Compute accuracy: score\n",
    "    score = metrics.accuracy_score(y_test, y_pred)\n",
    "    return score\n",
    "\n",
    "# Iterate over the alphas and print the corresponding score\n",
    "for alpha in alphas:\n",
    "    print('Alpha: ', alpha)\n",
    "    print('Score: ', train_and_predict(alpha))"
   ]
  },
  {
   "cell_type": "code",
   "execution_count": 35,
   "metadata": {},
   "outputs": [
    {
     "name": "stdout",
     "output_type": "stream",
     "text": [
      "0.7679222357229648\n",
      "[[869 114]\n",
      " [268 395]]\n",
      "              precision    recall  f1-score   support\n",
      "\n",
      "           0       0.76      0.88      0.82       983\n",
      "           1       0.78      0.60      0.67       663\n",
      "\n",
      "    accuracy                           0.77      1646\n",
      "   macro avg       0.77      0.74      0.75      1646\n",
      "weighted avg       0.77      0.77      0.76      1646\n",
      "\n"
     ]
    }
   ],
   "source": [
    "nb_classifier = MultinomialNB(alpha=0.1)\n",
    "\n",
    "nb_classifier.fit(tfidf_train, y_train)\n",
    "\n",
    "y_pred = nb_classifier.predict(tfidf_test)\n",
    "\n",
    "# Calculate the accuracy score: score\n",
    "score = metrics.accuracy_score(y_test,y_pred)\n",
    "print(score)\n",
    "\n",
    "#confusion matrix and classification report\n",
    "print(confusion_matrix(y_test, y_pred))\n",
    "print(classification_report(y_test, y_pred))"
   ]
  },
  {
   "cell_type": "code",
   "execution_count": 36,
   "metadata": {},
   "outputs": [
    {
     "name": "stdout",
     "output_type": "stream",
     "text": [
      "0.7624544349939246\n",
      "[[900  83]\n",
      " [308 355]]\n",
      "              precision    recall  f1-score   support\n",
      "\n",
      "           0       0.75      0.92      0.82       983\n",
      "           1       0.81      0.54      0.64       663\n",
      "\n",
      "    accuracy                           0.76      1646\n",
      "   macro avg       0.78      0.73      0.73      1646\n",
      "weighted avg       0.77      0.76      0.75      1646\n",
      "\n"
     ]
    }
   ],
   "source": [
    "svm_classifier = svm.SVC()\n",
    "svm_classifier.fit(tfidf_train, y_train)\n",
    "y_pred = svm_classifier.predict(tfidf_test)\n",
    "\n",
    "# Calculate the accuracy score: score\n",
    "score = metrics.accuracy_score(y_test,y_pred)\n",
    "print(score)\n",
    "\n",
    "#confusion matrix and classification report\n",
    "print(confusion_matrix(y_test, y_pred))\n",
    "print(classification_report(y_test, y_pred))"
   ]
  },
  {
   "cell_type": "code",
   "execution_count": 37,
   "metadata": {},
   "outputs": [],
   "source": [
    "punctuation = string.punctuation"
   ]
  },
  {
   "cell_type": "code",
   "execution_count": 38,
   "metadata": {},
   "outputs": [],
   "source": [
    "def remove_punc(row):\n",
    "    tokens = row.split()\n",
    "    newtokens = [w for w in tokens if w.isalpha()]\n",
    "    newtokens = [w for w in newtokens if w not in punctuation]\n",
    "    return newtokens"
   ]
  },
  {
   "cell_type": "code",
   "execution_count": 39,
   "metadata": {},
   "outputs": [],
   "source": [
    "train['no_punc_content'] = train.text.apply(remove_punc)"
   ]
  },
  {
   "cell_type": "code",
   "execution_count": 40,
   "metadata": {},
   "outputs": [
    {
     "data": {
      "text/html": [
       "<div>\n",
       "<style scoped>\n",
       "    .dataframe tbody tr th:only-of-type {\n",
       "        vertical-align: middle;\n",
       "    }\n",
       "\n",
       "    .dataframe tbody tr th {\n",
       "        vertical-align: top;\n",
       "    }\n",
       "\n",
       "    .dataframe thead th {\n",
       "        text-align: right;\n",
       "    }\n",
       "</style>\n",
       "<table border=\"1\" class=\"dataframe\">\n",
       "  <thead>\n",
       "    <tr style=\"text-align: right;\">\n",
       "      <th></th>\n",
       "      <th>text</th>\n",
       "      <th>label</th>\n",
       "      <th>type</th>\n",
       "      <th>no_punc_content</th>\n",
       "      <th>stemmed_words</th>\n",
       "    </tr>\n",
       "  </thead>\n",
       "  <tbody>\n",
       "    <tr>\n",
       "      <th>0</th>\n",
       "      <td>Get the latest from TODAY Sign up for our news...</td>\n",
       "      <td>1</td>\n",
       "      <td>fake</td>\n",
       "      <td>[Get, the, latest, from, TODAY, Sign, up, for,...</td>\n",
       "      <td>[get, the, latest, from, today, sign, up, for,...</td>\n",
       "    </tr>\n",
       "    <tr>\n",
       "      <th>1</th>\n",
       "      <td>2d  Conan On The Funeral Trump Will Be Invited...</td>\n",
       "      <td>1</td>\n",
       "      <td>fake</td>\n",
       "      <td>[Conan, On, The, Funeral, Trump, Will, Be, Inv...</td>\n",
       "      <td>[conan, On, the, funer, trump, will, Be, invit...</td>\n",
       "    </tr>\n",
       "    <tr>\n",
       "      <th>2</th>\n",
       "      <td>It’s safe to say that Instagram Stories has fa...</td>\n",
       "      <td>0</td>\n",
       "      <td>reliable</td>\n",
       "      <td>[safe, to, say, that, Instagram, Stories, has,...</td>\n",
       "      <td>[safe, to, say, that, instagram, stori, ha, fa...</td>\n",
       "    </tr>\n",
       "    <tr>\n",
       "      <th>3</th>\n",
       "      <td>Much like a certain Amazon goddess with a lass...</td>\n",
       "      <td>0</td>\n",
       "      <td>reliable</td>\n",
       "      <td>[Much, like, a, certain, Amazon, goddess, with...</td>\n",
       "      <td>[much, like, a, certain, amazon, goddess, with...</td>\n",
       "    </tr>\n",
       "    <tr>\n",
       "      <th>4</th>\n",
       "      <td>At a time when the perfect outfit is just one ...</td>\n",
       "      <td>0</td>\n",
       "      <td>reliable</td>\n",
       "      <td>[At, a, time, when, the, perfect, outfit, is, ...</td>\n",
       "      <td>[At, a, time, when, the, perfect, outfit, is, ...</td>\n",
       "    </tr>\n",
       "  </tbody>\n",
       "</table>\n",
       "</div>"
      ],
      "text/plain": [
       "                                                text  label      type  \\\n",
       "0  Get the latest from TODAY Sign up for our news...      1      fake   \n",
       "1  2d  Conan On The Funeral Trump Will Be Invited...      1      fake   \n",
       "2  It’s safe to say that Instagram Stories has fa...      0  reliable   \n",
       "3  Much like a certain Amazon goddess with a lass...      0  reliable   \n",
       "4  At a time when the perfect outfit is just one ...      0  reliable   \n",
       "\n",
       "                                     no_punc_content  \\\n",
       "0  [Get, the, latest, from, TODAY, Sign, up, for,...   \n",
       "1  [Conan, On, The, Funeral, Trump, Will, Be, Inv...   \n",
       "2  [safe, to, say, that, Instagram, Stories, has,...   \n",
       "3  [Much, like, a, certain, Amazon, goddess, with...   \n",
       "4  [At, a, time, when, the, perfect, outfit, is, ...   \n",
       "\n",
       "                                       stemmed_words  \n",
       "0  [get, the, latest, from, today, sign, up, for,...  \n",
       "1  [conan, On, the, funer, trump, will, Be, invit...  \n",
       "2  [safe, to, say, that, instagram, stori, ha, fa...  \n",
       "3  [much, like, a, certain, amazon, goddess, with...  \n",
       "4  [At, a, time, when, the, perfect, outfit, is, ...  "
      ]
     },
     "execution_count": 40,
     "metadata": {},
     "output_type": "execute_result"
    }
   ],
   "source": [
    "ps = PorterStemmer()\n",
    "\n",
    "def stemmed_content(row):\n",
    "    text = row['no_punc_content']\n",
    "    stemmed_list = [ps.stem(word) for word in text]\n",
    "    return (stemmed_list)\n",
    "\n",
    "train['stemmed_words'] = train.apply(stemmed_content, axis=1)\n",
    "\n",
    "train.head()"
   ]
  },
  {
   "cell_type": "code",
   "execution_count": 41,
   "metadata": {},
   "outputs": [
    {
     "data": {
      "text/html": [
       "<div>\n",
       "<style scoped>\n",
       "    .dataframe tbody tr th:only-of-type {\n",
       "        vertical-align: middle;\n",
       "    }\n",
       "\n",
       "    .dataframe tbody tr th {\n",
       "        vertical-align: top;\n",
       "    }\n",
       "\n",
       "    .dataframe thead th {\n",
       "        text-align: right;\n",
       "    }\n",
       "</style>\n",
       "<table border=\"1\" class=\"dataframe\">\n",
       "  <thead>\n",
       "    <tr style=\"text-align: right;\">\n",
       "      <th></th>\n",
       "      <th>text</th>\n",
       "      <th>label</th>\n",
       "      <th>type</th>\n",
       "      <th>no_punc_content</th>\n",
       "      <th>stemmed_words</th>\n",
       "      <th>no_stop_stemmed</th>\n",
       "    </tr>\n",
       "  </thead>\n",
       "  <tbody>\n",
       "    <tr>\n",
       "      <th>0</th>\n",
       "      <td>Get the latest from TODAY Sign up for our news...</td>\n",
       "      <td>1</td>\n",
       "      <td>fake</td>\n",
       "      <td>[Get, the, latest, from, TODAY, Sign, up, for,...</td>\n",
       "      <td>[get, the, latest, from, today, sign, up, for,...</td>\n",
       "      <td>[get, latest, today, sign, newslett, No, one, ...</td>\n",
       "    </tr>\n",
       "    <tr>\n",
       "      <th>1</th>\n",
       "      <td>2d  Conan On The Funeral Trump Will Be Invited...</td>\n",
       "      <td>1</td>\n",
       "      <td>fake</td>\n",
       "      <td>[Conan, On, The, Funeral, Trump, Will, Be, Inv...</td>\n",
       "      <td>[conan, On, the, funer, trump, will, Be, invit...</td>\n",
       "      <td>[conan, On, funer, trump, Be, invit, To, conan...</td>\n",
       "    </tr>\n",
       "    <tr>\n",
       "      <th>2</th>\n",
       "      <td>It’s safe to say that Instagram Stories has fa...</td>\n",
       "      <td>0</td>\n",
       "      <td>reliable</td>\n",
       "      <td>[safe, to, say, that, Instagram, Stories, has,...</td>\n",
       "      <td>[safe, to, say, that, instagram, stori, ha, fa...</td>\n",
       "      <td>[safe, say, instagram, stori, ha, far, surpass...</td>\n",
       "    </tr>\n",
       "    <tr>\n",
       "      <th>3</th>\n",
       "      <td>Much like a certain Amazon goddess with a lass...</td>\n",
       "      <td>0</td>\n",
       "      <td>reliable</td>\n",
       "      <td>[Much, like, a, certain, Amazon, goddess, with...</td>\n",
       "      <td>[much, like, a, certain, amazon, goddess, with...</td>\n",
       "      <td>[much, like, certain, amazon, goddess, height,...</td>\n",
       "    </tr>\n",
       "    <tr>\n",
       "      <th>4</th>\n",
       "      <td>At a time when the perfect outfit is just one ...</td>\n",
       "      <td>0</td>\n",
       "      <td>reliable</td>\n",
       "      <td>[At, a, time, when, the, perfect, outfit, is, ...</td>\n",
       "      <td>[At, a, time, when, the, perfect, outfit, is, ...</td>\n",
       "      <td>[At, time, perfect, outfit, one, click, high, ...</td>\n",
       "    </tr>\n",
       "  </tbody>\n",
       "</table>\n",
       "</div>"
      ],
      "text/plain": [
       "                                                text  label      type  \\\n",
       "0  Get the latest from TODAY Sign up for our news...      1      fake   \n",
       "1  2d  Conan On The Funeral Trump Will Be Invited...      1      fake   \n",
       "2  It’s safe to say that Instagram Stories has fa...      0  reliable   \n",
       "3  Much like a certain Amazon goddess with a lass...      0  reliable   \n",
       "4  At a time when the perfect outfit is just one ...      0  reliable   \n",
       "\n",
       "                                     no_punc_content  \\\n",
       "0  [Get, the, latest, from, TODAY, Sign, up, for,...   \n",
       "1  [Conan, On, The, Funeral, Trump, Will, Be, Inv...   \n",
       "2  [safe, to, say, that, Instagram, Stories, has,...   \n",
       "3  [Much, like, a, certain, Amazon, goddess, with...   \n",
       "4  [At, a, time, when, the, perfect, outfit, is, ...   \n",
       "\n",
       "                                       stemmed_words  \\\n",
       "0  [get, the, latest, from, today, sign, up, for,...   \n",
       "1  [conan, On, the, funer, trump, will, Be, invit...   \n",
       "2  [safe, to, say, that, instagram, stori, ha, fa...   \n",
       "3  [much, like, a, certain, amazon, goddess, with...   \n",
       "4  [At, a, time, when, the, perfect, outfit, is, ...   \n",
       "\n",
       "                                     no_stop_stemmed  \n",
       "0  [get, latest, today, sign, newslett, No, one, ...  \n",
       "1  [conan, On, funer, trump, Be, invit, To, conan...  \n",
       "2  [safe, say, instagram, stori, ha, far, surpass...  \n",
       "3  [much, like, certain, amazon, goddess, height,...  \n",
       "4  [At, time, perfect, outfit, one, click, high, ...  "
      ]
     },
     "execution_count": 41,
     "metadata": {},
     "output_type": "execute_result"
    }
   ],
   "source": [
    "english_stopwords = set(stopwords.words('english'))\n",
    "\n",
    "\n",
    "def remove_stop(row):\n",
    "    tokens = row['stemmed_words']\n",
    "    newtokens = [w for w in tokens if w not in english_stopwords]\n",
    "    return newtokens\n",
    "\n",
    "train['no_stop_stemmed'] = train.apply(remove_stop, axis=1)\n",
    "\n",
    "\n",
    "\n",
    "train.head()"
   ]
  },
  {
   "cell_type": "code",
   "execution_count": 42,
   "metadata": {},
   "outputs": [
    {
     "data": {
      "text/html": [
       "<div>\n",
       "<style scoped>\n",
       "    .dataframe tbody tr th:only-of-type {\n",
       "        vertical-align: middle;\n",
       "    }\n",
       "\n",
       "    .dataframe tbody tr th {\n",
       "        vertical-align: top;\n",
       "    }\n",
       "\n",
       "    .dataframe thead th {\n",
       "        text-align: right;\n",
       "    }\n",
       "</style>\n",
       "<table border=\"1\" class=\"dataframe\">\n",
       "  <thead>\n",
       "    <tr style=\"text-align: right;\">\n",
       "      <th></th>\n",
       "      <th>text</th>\n",
       "      <th>label</th>\n",
       "      <th>type</th>\n",
       "      <th>no_punc_content</th>\n",
       "      <th>stemmed_words</th>\n",
       "      <th>no_stop_stemmed</th>\n",
       "      <th>pre_processed_text</th>\n",
       "    </tr>\n",
       "  </thead>\n",
       "  <tbody>\n",
       "    <tr>\n",
       "      <th>0</th>\n",
       "      <td>Get the latest from TODAY Sign up for our news...</td>\n",
       "      <td>1</td>\n",
       "      <td>fake</td>\n",
       "      <td>[Get, the, latest, from, TODAY, Sign, up, for,...</td>\n",
       "      <td>[get, the, latest, from, today, sign, up, for,...</td>\n",
       "      <td>[get, latest, today, sign, newslett, No, one, ...</td>\n",
       "      <td>get latest today sign newslett No one ever tru...</td>\n",
       "    </tr>\n",
       "    <tr>\n",
       "      <th>1</th>\n",
       "      <td>2d  Conan On The Funeral Trump Will Be Invited...</td>\n",
       "      <td>1</td>\n",
       "      <td>fake</td>\n",
       "      <td>[Conan, On, The, Funeral, Trump, Will, Be, Inv...</td>\n",
       "      <td>[conan, On, the, funer, trump, will, Be, invit...</td>\n",
       "      <td>[conan, On, funer, trump, Be, invit, To, conan...</td>\n",
       "      <td>conan On funer trump Be invit To conan tb</td>\n",
       "    </tr>\n",
       "    <tr>\n",
       "      <th>2</th>\n",
       "      <td>It’s safe to say that Instagram Stories has fa...</td>\n",
       "      <td>0</td>\n",
       "      <td>reliable</td>\n",
       "      <td>[safe, to, say, that, Instagram, Stories, has,...</td>\n",
       "      <td>[safe, to, say, that, instagram, stori, ha, fa...</td>\n",
       "      <td>[safe, say, instagram, stori, ha, far, surpass...</td>\n",
       "      <td>safe say instagram stori ha far surpass compet...</td>\n",
       "    </tr>\n",
       "    <tr>\n",
       "      <th>3</th>\n",
       "      <td>Much like a certain Amazon goddess with a lass...</td>\n",
       "      <td>0</td>\n",
       "      <td>reliable</td>\n",
       "      <td>[Much, like, a, certain, Amazon, goddess, with...</td>\n",
       "      <td>[much, like, a, certain, amazon, goddess, with...</td>\n",
       "      <td>[much, like, certain, amazon, goddess, height,...</td>\n",
       "      <td>much like certain amazon goddess height direct...</td>\n",
       "    </tr>\n",
       "    <tr>\n",
       "      <th>4</th>\n",
       "      <td>At a time when the perfect outfit is just one ...</td>\n",
       "      <td>0</td>\n",
       "      <td>reliable</td>\n",
       "      <td>[At, a, time, when, the, perfect, outfit, is, ...</td>\n",
       "      <td>[At, a, time, when, the, perfect, outfit, is, ...</td>\n",
       "      <td>[At, time, perfect, outfit, one, click, high, ...</td>\n",
       "      <td>At time perfect outfit one click high demand t...</td>\n",
       "    </tr>\n",
       "  </tbody>\n",
       "</table>\n",
       "</div>"
      ],
      "text/plain": [
       "                                                text  label      type  \\\n",
       "0  Get the latest from TODAY Sign up for our news...      1      fake   \n",
       "1  2d  Conan On The Funeral Trump Will Be Invited...      1      fake   \n",
       "2  It’s safe to say that Instagram Stories has fa...      0  reliable   \n",
       "3  Much like a certain Amazon goddess with a lass...      0  reliable   \n",
       "4  At a time when the perfect outfit is just one ...      0  reliable   \n",
       "\n",
       "                                     no_punc_content  \\\n",
       "0  [Get, the, latest, from, TODAY, Sign, up, for,...   \n",
       "1  [Conan, On, The, Funeral, Trump, Will, Be, Inv...   \n",
       "2  [safe, to, say, that, Instagram, Stories, has,...   \n",
       "3  [Much, like, a, certain, Amazon, goddess, with...   \n",
       "4  [At, a, time, when, the, perfect, outfit, is, ...   \n",
       "\n",
       "                                       stemmed_words  \\\n",
       "0  [get, the, latest, from, today, sign, up, for,...   \n",
       "1  [conan, On, the, funer, trump, will, Be, invit...   \n",
       "2  [safe, to, say, that, instagram, stori, ha, fa...   \n",
       "3  [much, like, a, certain, amazon, goddess, with...   \n",
       "4  [At, a, time, when, the, perfect, outfit, is, ...   \n",
       "\n",
       "                                     no_stop_stemmed  \\\n",
       "0  [get, latest, today, sign, newslett, No, one, ...   \n",
       "1  [conan, On, funer, trump, Be, invit, To, conan...   \n",
       "2  [safe, say, instagram, stori, ha, far, surpass...   \n",
       "3  [much, like, certain, amazon, goddess, height,...   \n",
       "4  [At, time, perfect, outfit, one, click, high, ...   \n",
       "\n",
       "                                  pre_processed_text  \n",
       "0  get latest today sign newslett No one ever tru...  \n",
       "1          conan On funer trump Be invit To conan tb  \n",
       "2  safe say instagram stori ha far surpass compet...  \n",
       "3  much like certain amazon goddess height direct...  \n",
       "4  At time perfect outfit one click high demand t...  "
      ]
     },
     "execution_count": 42,
     "metadata": {},
     "output_type": "execute_result"
    }
   ],
   "source": [
    "def rejoin(row):\n",
    "    my_list = row['no_stop_stemmed']\n",
    "    joined_text = ( \" \".join(my_list))\n",
    "    return joined_text\n",
    "\n",
    "train['pre_processed_text'] = train.apply(rejoin, axis=1)\n",
    "\n",
    "train.head()"
   ]
  },
  {
   "cell_type": "code",
   "execution_count": 43,
   "metadata": {},
   "outputs": [],
   "source": [
    "y = train['label']"
   ]
  },
  {
   "cell_type": "code",
   "execution_count": 44,
   "metadata": {},
   "outputs": [],
   "source": [
    "X_train, X_test, y_train, y_test = train_test_split(train['pre_processed_text'], y, test_size=0.33, random_state=53)"
   ]
  },
  {
   "cell_type": "code",
   "execution_count": 45,
   "metadata": {},
   "outputs": [
    {
     "name": "stdout",
     "output_type": "stream",
     "text": [
      "['aa', 'aaa', 'aaaaand', 'aabb', 'aad', 'aaliyah', 'aandahl', 'aaron', 'aarp', 'aasen']\n",
      "[[0. 0. 0. ... 0. 0. 0.]\n",
      " [0. 0. 0. ... 0. 0. 0.]\n",
      " [0. 0. 0. ... 0. 0. 0.]\n",
      " [0. 0. 0. ... 0. 0. 0.]\n",
      " [0. 0. 0. ... 0. 0. 0.]]\n"
     ]
    }
   ],
   "source": [
    "tfidf_vectorizer = TfidfVectorizer(stop_words=\"english\", max_df=0.7)\n",
    "\n",
    "# Transform the training data: tfidf_train \n",
    "tfidf_train = tfidf_vectorizer.fit_transform(X_train)\n",
    "\n",
    "# Transform the test data: tfidf_test \n",
    "tfidf_test = tfidf_vectorizer.transform(X_test)\n",
    "\n",
    "# Print the first 10 features\n",
    "print(tfidf_vectorizer.get_feature_names()[:10])\n",
    "\n",
    "# Print the first 5 vectors of the tfidf training data\n",
    "print(tfidf_train.A[:5])\n",
    "\n"
   ]
  },
  {
   "cell_type": "code",
   "execution_count": 46,
   "metadata": {},
   "outputs": [
    {
     "name": "stdout",
     "output_type": "stream",
     "text": [
      "0.7053462940461726\n",
      "[[953  30]\n",
      " [455 208]]\n",
      "              precision    recall  f1-score   support\n",
      "\n",
      "           0       0.68      0.97      0.80       983\n",
      "           1       0.87      0.31      0.46       663\n",
      "\n",
      "    accuracy                           0.71      1646\n",
      "   macro avg       0.78      0.64      0.63      1646\n",
      "weighted avg       0.76      0.71      0.66      1646\n",
      "\n"
     ]
    }
   ],
   "source": [
    "nb_classifier = MultinomialNB()\n",
    "\n",
    "nb_classifier.fit(tfidf_train, y_train)\n",
    "\n",
    "y_pred = nb_classifier.predict(tfidf_test)\n",
    "\n",
    "# Calculate the accuracy score: score\n",
    "score = metrics.accuracy_score(y_test,y_pred)\n",
    "print(score)\n",
    "\n",
    "#confusion matrix and classification report\n",
    "print(confusion_matrix(y_test, y_pred))\n",
    "print(classification_report(y_test, y_pred))"
   ]
  },
  {
   "cell_type": "code",
   "execution_count": 47,
   "metadata": {},
   "outputs": [
    {
     "name": "stdout",
     "output_type": "stream",
     "text": [
      "Alpha:  0.0\n",
      "Score:  0.7132442284325637\n",
      "Alpha:  0.1\n",
      "Score:  0.7624544349939246\n",
      "Alpha:  0.2\n",
      "Score:  0.7551640340218712\n",
      "Alpha:  0.30000000000000004\n",
      "Score:  0.7430133657351154\n",
      "Alpha:  0.4\n",
      "Score:  0.735722964763062\n",
      "Alpha:  0.5\n",
      "Score:  0.7339003645200486\n",
      "Alpha:  0.6000000000000001\n",
      "Score:  0.7296476306196841\n",
      "Alpha:  0.7000000000000001\n",
      "Score:  0.7253948967193196\n",
      "Alpha:  0.8\n",
      "Score:  0.7174969623329283\n",
      "Alpha:  0.9\n",
      "Score:  0.7120291616038882\n"
     ]
    },
    {
     "name": "stderr",
     "output_type": "stream",
     "text": [
      "/opt/anaconda3/lib/python3.8/site-packages/sklearn/naive_bayes.py:508: UserWarning: alpha too small will result in numeric errors, setting alpha = 1.0e-10\n",
      "  warnings.warn('alpha too small will result in numeric errors, '\n"
     ]
    }
   ],
   "source": [
    "# Create the list of alphas: alphas\n",
    "alphas = np.arange(0,1,0.1)\n",
    "\n",
    "# Define train_and_predict()\n",
    "def train_and_predict(alpha):\n",
    "    # Instantiate the classifier: nb_classifier\n",
    "    nb_classifier = MultinomialNB(alpha=alpha)\n",
    "    # Fit to the training data\n",
    "    nb_classifier.fit(tfidf_train, y_train)\n",
    "    # Predict the labels: pred\n",
    "    y_pred = nb_classifier.predict(tfidf_test)\n",
    "    # Compute accuracy: score\n",
    "    score = metrics.accuracy_score(y_test, y_pred)\n",
    "    return score\n",
    "\n",
    "# Iterate over the alphas and print the corresponding score\n",
    "for alpha in alphas:\n",
    "    print('Alpha: ', alpha)\n",
    "    print('Score: ', train_and_predict(alpha))"
   ]
  },
  {
   "cell_type": "code",
   "execution_count": 48,
   "metadata": {},
   "outputs": [
    {
     "name": "stdout",
     "output_type": "stream",
     "text": [
      "28000\n"
     ]
    }
   ],
   "source": [
    "# Print the first 10 features\n",
    "print(len(tfidf_vectorizer.get_feature_names()))"
   ]
  },
  {
   "cell_type": "code",
   "execution_count": 53,
   "metadata": {},
   "outputs": [],
   "source": [
    "tfidf_vectorizer = TfidfVectorizer(max_features = 500, stop_words=\"english\", max_df=0.7)\n",
    "\n",
    "# Transform the training data: tfidf_train \n",
    "tfidf_train = tfidf_vectorizer.fit_transform(X_train)\n",
    "\n",
    "# Transform the test data: tfidf_test \n",
    "tfidf_test = tfidf_vectorizer.transform(X_test)\n",
    "\n"
   ]
  },
  {
   "cell_type": "code",
   "execution_count": 54,
   "metadata": {},
   "outputs": [
    {
     "name": "stdout",
     "output_type": "stream",
     "text": [
      "0.7278250303766707\n",
      "[[894  89]\n",
      " [359 304]]\n",
      "              precision    recall  f1-score   support\n",
      "\n",
      "           0       0.71      0.91      0.80       983\n",
      "           1       0.77      0.46      0.58       663\n",
      "\n",
      "    accuracy                           0.73      1646\n",
      "   macro avg       0.74      0.68      0.69      1646\n",
      "weighted avg       0.74      0.73      0.71      1646\n",
      "\n"
     ]
    }
   ],
   "source": [
    "nb_classifier = MultinomialNB(alpha=0.1)\n",
    "\n",
    "nb_classifier.fit(tfidf_train, y_train)\n",
    "\n",
    "y_pred = nb_classifier.predict(tfidf_test)\n",
    "\n",
    "# Calculate the accuracy score: score\n",
    "score = metrics.accuracy_score(y_test,y_pred)\n",
    "print(score)\n",
    "\n",
    "#confusion matrix and classification report\n",
    "print(confusion_matrix(y_test, y_pred))\n",
    "print(classification_report(y_test, y_pred))"
   ]
  },
  {
   "cell_type": "code",
   "execution_count": 87,
   "metadata": {},
   "outputs": [],
   "source": [
    "classifiers = [MultinomialNB(),LinearSVC(), XGBClassifier(n_estimator=200)]"
   ]
  },
  {
   "cell_type": "code",
   "execution_count": 88,
   "metadata": {},
   "outputs": [],
   "source": [
    "class pre_process(BaseEstimator, TransformerMixin):\n",
    "    def __init__(self):\n",
    "        pass\n",
    "    def transform(self, X, y=None):\n",
    "        \n",
    "        def proc(z):\n",
    "            text = z.split()\n",
    "            text =  [w for w in text if w.isalpha()]\n",
    "            text = [w for w in text if w not in punctuation]\n",
    "            text = [ps.stem(word) for word in text]\n",
    "            text = [w for w in text if w not in english_stopwords]\n",
    "            text = \" \".join(text)\n",
    "            return text\n",
    "        z = X.apply(proc)        \n",
    "        return z\n",
    "    def fit(self, df, y=None):\n",
    "        return self"
   ]
  },
  {
   "cell_type": "code",
   "execution_count": 89,
   "metadata": {},
   "outputs": [],
   "source": [
    "X_train, X_test, y_train, y_test = train_test_split(train['pre_processed_text'], y, test_size=0.33, random_state=53)"
   ]
  },
  {
   "cell_type": "code",
   "execution_count": 90,
   "metadata": {},
   "outputs": [
    {
     "name": "stdout",
     "output_type": "stream",
     "text": [
      "\n",
      "\n",
      "Name of classifier being used with count vectorizer: \n",
      "\n",
      "MultinomialNB()\n",
      "\n",
      "Classification Report : \n",
      "\n",
      "              precision    recall  f1-score   support\n",
      "\n",
      "           0       0.74      0.78      0.76       983\n",
      "           1       0.65      0.59      0.62       663\n",
      "\n",
      "    accuracy                           0.71      1646\n",
      "   macro avg       0.69      0.69      0.69      1646\n",
      "weighted avg       0.70      0.71      0.70      1646\n",
      "\n",
      "\n",
      " Accuracy of classifier : 0.7053462940461726\n"
     ]
    },
    {
     "name": "stderr",
     "output_type": "stream",
     "text": [
      "/opt/anaconda3/lib/python3.8/site-packages/sklearn/svm/_base.py:985: ConvergenceWarning: Liblinear failed to converge, increase the number of iterations.\n",
      "  warnings.warn(\"Liblinear failed to converge, increase \"\n"
     ]
    },
    {
     "name": "stdout",
     "output_type": "stream",
     "text": [
      "\n",
      "\n",
      "Name of classifier being used with count vectorizer: \n",
      "\n",
      "LinearSVC()\n",
      "\n",
      "Classification Report : \n",
      "\n",
      "              precision    recall  f1-score   support\n",
      "\n",
      "           0       0.72      0.79      0.75       983\n",
      "           1       0.64      0.54      0.59       663\n",
      "\n",
      "    accuracy                           0.69      1646\n",
      "   macro avg       0.68      0.67      0.67      1646\n",
      "weighted avg       0.69      0.69      0.69      1646\n",
      "\n",
      "\n",
      " Accuracy of classifier : 0.6913730255164034\n"
     ]
    },
    {
     "name": "stderr",
     "output_type": "stream",
     "text": [
      "/opt/anaconda3/lib/python3.8/site-packages/xgboost/sklearn.py:1146: UserWarning: The use of label encoder in XGBClassifier is deprecated and will be removed in a future release. To remove this warning, do the following: 1) Pass option use_label_encoder=False when constructing XGBClassifier object; and 2) Encode your labels (y) as integers starting with 0, i.e. 0, 1, 2, ..., [num_class - 1].\n",
      "  warnings.warn(label_encoder_deprecation_msg, UserWarning)\n"
     ]
    },
    {
     "name": "stdout",
     "output_type": "stream",
     "text": [
      "[12:59:39] WARNING: /Users/travis/build/dmlc/xgboost/src/learner.cc:573: \n",
      "Parameters: { \"n_estimator\" } might not be used.\n",
      "\n",
      "  This may not be accurate due to some parameters are only used in language bindings but\n",
      "  passed down to XGBoost core.  Or some parameters are not used but slip through this\n",
      "  verification. Please open an issue if you find above cases.\n",
      "\n",
      "\n",
      "[12:59:39] WARNING: /Users/travis/build/dmlc/xgboost/src/learner.cc:1095: Starting in XGBoost 1.3.0, the default evaluation metric used with the objective 'binary:logistic' was changed from 'error' to 'logloss'. Explicitly set eval_metric if you'd like to restore the old behavior.\n",
      "\n",
      "\n",
      "Name of classifier being used with count vectorizer: \n",
      "\n",
      "XGBClassifier(base_score=0.5, booster='gbtree', colsample_bylevel=1,\n",
      "              colsample_bynode=1, colsample_bytree=1, gamma=0, gpu_id=-1,\n",
      "              importance_type='gain', interaction_constraints='',\n",
      "              learning_rate=0.300000012, max_delta_step=0, max_depth=6,\n",
      "              min_child_weight=1, missing=nan, monotone_constraints='()',\n",
      "              n_estimator=200, n_estimators=100, n_jobs=4, num_parallel_tree=1,\n",
      "              random_state=0, reg_alpha=0, reg_lambda=1, scale_pos_weight=1,\n",
      "              subsample=1, tree_method='exact', validate_parameters=1,\n",
      "              verbosity=None)\n",
      "\n",
      "Classification Report : \n",
      "\n",
      "              precision    recall  f1-score   support\n",
      "\n",
      "           0       0.75      0.82      0.78       983\n",
      "           1       0.69      0.58      0.63       663\n",
      "\n",
      "    accuracy                           0.73      1646\n",
      "   macro avg       0.72      0.70      0.71      1646\n",
      "weighted avg       0.72      0.73      0.72      1646\n",
      "\n",
      "\n",
      " Accuracy of classifier : 0.7260024301336574\n"
     ]
    }
   ],
   "source": [
    "for classifier in classifiers:\n",
    "    tfidf_pineline = Pipeline([\n",
    "        #('preproc', pre_process()),\n",
    "              ('cv', CountVectorizer(stop_words='english', max_features=500)),\n",
    "              ('clf',  classifier  )])\n",
    "    tfidf_pineline.fit(X_train,y_train)\n",
    "    y_pred = tfidf_pineline.predict(X_test)\n",
    "    print (\"\\n\\nName of classifier being used with count vectorizer: \\n\\n\" + str(classifier) + \n",
    "           \"\\n\\nClassification Report : \\n\\n\"+ str(metrics.classification_report(y_test,y_pred))  + \"\\n\\n Accuracy of classifier : \" + str(tfidf_pineline.score(X_test,y_test)))"
   ]
  },
  {
   "cell_type": "code",
   "execution_count": 91,
   "metadata": {},
   "outputs": [
    {
     "name": "stdout",
     "output_type": "stream",
     "text": [
      "\n",
      "\n",
      "Name of classifier being used with tfidf vectorizer: \n",
      "\n",
      "MultinomialNB()\n",
      "\n",
      "Classification Report : \n",
      "\n",
      "              precision    recall  f1-score   support\n",
      "\n",
      "           0       0.73      0.90      0.81       983\n",
      "           1       0.77      0.50      0.61       663\n",
      "\n",
      "    accuracy                           0.74      1646\n",
      "   macro avg       0.75      0.70      0.71      1646\n",
      "weighted avg       0.75      0.74      0.73      1646\n",
      "\n",
      "\n",
      " Accuracy of classifier : 0.741190765492102\n",
      "\n",
      "\n",
      "Name of classifier being used with tfidf vectorizer: \n",
      "\n",
      "LinearSVC()\n",
      "\n",
      "Classification Report : \n",
      "\n",
      "              precision    recall  f1-score   support\n",
      "\n",
      "           0       0.75      0.80      0.77       983\n",
      "           1       0.67      0.60      0.63       663\n",
      "\n",
      "    accuracy                           0.72      1646\n",
      "   macro avg       0.71      0.70      0.70      1646\n",
      "weighted avg       0.72      0.72      0.72      1646\n",
      "\n",
      "\n",
      " Accuracy of classifier : 0.7199270959902795\n"
     ]
    },
    {
     "name": "stderr",
     "output_type": "stream",
     "text": [
      "/opt/anaconda3/lib/python3.8/site-packages/xgboost/sklearn.py:1146: UserWarning: The use of label encoder in XGBClassifier is deprecated and will be removed in a future release. To remove this warning, do the following: 1) Pass option use_label_encoder=False when constructing XGBClassifier object; and 2) Encode your labels (y) as integers starting with 0, i.e. 0, 1, 2, ..., [num_class - 1].\n",
      "  warnings.warn(label_encoder_deprecation_msg, UserWarning)\n"
     ]
    },
    {
     "name": "stdout",
     "output_type": "stream",
     "text": [
      "[13:00:01] WARNING: /Users/travis/build/dmlc/xgboost/src/learner.cc:573: \n",
      "Parameters: { \"n_estimator\" } might not be used.\n",
      "\n",
      "  This may not be accurate due to some parameters are only used in language bindings but\n",
      "  passed down to XGBoost core.  Or some parameters are not used but slip through this\n",
      "  verification. Please open an issue if you find above cases.\n",
      "\n",
      "\n",
      "[13:00:01] WARNING: /Users/travis/build/dmlc/xgboost/src/learner.cc:1095: Starting in XGBoost 1.3.0, the default evaluation metric used with the objective 'binary:logistic' was changed from 'error' to 'logloss'. Explicitly set eval_metric if you'd like to restore the old behavior.\n",
      "\n",
      "\n",
      "Name of classifier being used with tfidf vectorizer: \n",
      "\n",
      "XGBClassifier(base_score=0.5, booster='gbtree', colsample_bylevel=1,\n",
      "              colsample_bynode=1, colsample_bytree=1, gamma=0, gpu_id=-1,\n",
      "              importance_type='gain', interaction_constraints='',\n",
      "              learning_rate=0.300000012, max_delta_step=0, max_depth=6,\n",
      "              min_child_weight=1, missing=nan, monotone_constraints='()',\n",
      "              n_estimator=200, n_estimators=100, n_jobs=4, num_parallel_tree=1,\n",
      "              random_state=0, reg_alpha=0, reg_lambda=1, scale_pos_weight=1,\n",
      "              subsample=1, tree_method='exact', validate_parameters=1,\n",
      "              verbosity=None)\n",
      "\n",
      "Classification Report : \n",
      "\n",
      "              precision    recall  f1-score   support\n",
      "\n",
      "           0       0.73      0.88      0.80       983\n",
      "           1       0.75      0.52      0.61       663\n",
      "\n",
      "    accuracy                           0.74      1646\n",
      "   macro avg       0.74      0.70      0.71      1646\n",
      "weighted avg       0.74      0.74      0.72      1646\n",
      "\n",
      "\n",
      " Accuracy of classifier : 0.7363304981773997\n"
     ]
    }
   ],
   "source": [
    "for classifier in classifiers:\n",
    "    tfidf_pineline = Pipeline([\n",
    "        #('preproc', pre_process()),\n",
    "              ('cv', TfidfVectorizer(max_features=1000,stop_words='english',ngram_range=(2,2))),\n",
    "              ('clf',  classifier  )])\n",
    "    tfidf_pineline.fit(X_train,y_train)\n",
    "    y_pred = tfidf_pineline.predict(X_test)\n",
    "    print (\"\\n\\nName of classifier being used with tfidf vectorizer: \\n\\n\" + str(classifier) + \n",
    "           \"\\n\\nClassification Report : \\n\\n\"+ str(metrics.classification_report(y_test,y_pred))  + \"\\n\\n Accuracy of classifier : \" + str(tfidf_pineline.score(X_test,y_test)))"
   ]
  },
  {
   "cell_type": "code",
   "execution_count": 81,
   "metadata": {},
   "outputs": [
    {
     "name": "stdout",
     "output_type": "stream",
     "text": [
      "\n",
      "\n",
      "Name of classifier being used with tfidf vectorizer: \n",
      "\n",
      "<class 'sklearn.linear_model._logistic.LogisticRegression'>\n",
      "\n",
      "Classification Report : \n",
      "\n",
      "              precision    recall  f1-score   support\n",
      "\n",
      "           0       0.73      0.88      0.80       983\n",
      "           1       0.75      0.53      0.62       663\n",
      "\n",
      "    accuracy                           0.74      1646\n",
      "   macro avg       0.74      0.70      0.71      1646\n",
      "weighted avg       0.74      0.74      0.73      1646\n",
      "\n",
      "\n",
      " Accuracy of classifier : 0.7387606318347509\n"
     ]
    }
   ],
   "source": [
    "tfidf_pineline = Pipeline([\n",
    "#('preproc', pre_process()),\n",
    "('cv', TfidfVectorizer(max_features=1000,stop_words='english',ngram_range=(2,2))),\n",
    "('clf',  LogisticRegression())])\n",
    "tfidf_pineline.fit(X_train,y_train)\n",
    "y_pred = tfidf_pineline.predict(X_test)\n",
    "print (\"\\n\\nName of classifier being used with tfidf vectorizer: \\n\\n\" + str(LogisticRegression) + \n",
    "           \"\\n\\nClassification Report : \\n\\n\"+ str(metrics.classification_report(y_test,y_pred))  + \"\\n\\n Accuracy of classifier : \" + str(tfidf_pineline.score(X_test,y_test)))"
   ]
  },
  {
   "cell_type": "code",
   "execution_count": 86,
   "metadata": {},
   "outputs": [
    {
     "name": "stdout",
     "output_type": "stream",
     "text": [
      "\n",
      "\n",
      "Name of classifier being used with tfidf vectorizer: \n",
      "\n",
      "<class 'sklearn.tree._classes.DecisionTreeClassifier'>\n",
      "\n",
      "Classification Report : \n",
      "\n",
      "              precision    recall  f1-score   support\n",
      "\n",
      "           0       0.75      0.75      0.75       983\n",
      "           1       0.63      0.63      0.63       663\n",
      "\n",
      "    accuracy                           0.70      1646\n",
      "   macro avg       0.69      0.69      0.69      1646\n",
      "weighted avg       0.70      0.70      0.70      1646\n",
      "\n",
      "\n",
      " Accuracy of classifier : 0.6986634264884569\n"
     ]
    }
   ],
   "source": [
    "\n",
    "tfidf_pineline = Pipeline([\n",
    "#('preproc', pre_process()),\n",
    "('cv', TfidfVectorizer(max_features=1000,stop_words='english',ngram_range=(2,2))),\n",
    "('clf',  DecisionTreeClassifier())])\n",
    "\n",
    "tfidf_pineline.fit(X_train,y_train)\n",
    "y_pred = tfidf_pineline.predict(X_test)\n",
    "print (\"\\n\\nName of classifier being used with tfidf vectorizer: \\n\\n\" + str(DecisionTreeClassifier) + \n",
    "           \"\\n\\nClassification Report : \\n\\n\"+ str(metrics.classification_report(y_test,y_pred))  + \"\\n\\n Accuracy of classifier : \" + str(tfidf_pineline.score(X_test,y_test)))"
   ]
  }
 ],
 "metadata": {
  "kernelspec": {
   "display_name": "Python 3",
   "language": "python",
   "name": "python3"
  },
  "language_info": {
   "codemirror_mode": {
    "name": "ipython",
    "version": 3
   },
   "file_extension": ".py",
   "mimetype": "text/x-python",
   "name": "python",
   "nbconvert_exporter": "python",
   "pygments_lexer": "ipython3",
   "version": "3.8.5"
  }
 },
 "nbformat": 4,
 "nbformat_minor": 4
}
